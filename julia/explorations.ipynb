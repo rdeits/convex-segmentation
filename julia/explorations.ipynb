{
 "metadata": {
  "language": "Julia",
  "name": ""
 },
 "nbformat": 3,
 "nbformat_minor": 0,
 "worksheets": [
  {
   "cells": [
    {
     "cell_type": "code",
     "collapsed": false,
     "input": [
      "module Connectivity\n",
      "import Bresenham\n",
      "export convex_connections\n",
      "\n",
      "function check_convex_addition(mask_ndx::Array{Int64}, dims::(Int64, Int64), new_ndx::Int64)\n",
      "\tmask_ndx_set = Set(mask_ndx...)\n",
      "\tri, ci = ind2sub(dims, mask_ndx)\n",
      "\tr, c = ind2sub(dims, new_ndx)\n",
      "\tfor j in [1:length(ri)]\n",
      "\t\trb, cb = Bresenham.Line(r, c, ri[j], ci[j])\n",
      "\t\tfor k in [2:length(rb)-1]\n",
      "\t\t\tn = sub2ind(dims, rb[k], cb[k])\n",
      "\t\t\tif !(n in mask_ndx_set)\n",
      "\t\t\t\treturn false\n",
      "\t\t\tend\n",
      "\t\tend\n",
      "\tend\n",
      "\treturn true\n",
      "end\n",
      "\n",
      "function neighbors(dims::(Int64, Int64), x::Int64)\n",
      "\tm, n = dims\n",
      "\tr, c = ind2sub(dims, x)\n",
      "\tri = max(1, r-1):min(m, r+1)\n",
      "\tci = max(1, c-1):min(n, c+1)\n",
      "\tndx = vcat([rn + [(cn - 1) * m for cn in ci] for rn in ri]...)\n",
      "\tfilter!( y -> y != x, ndx)\n",
      "\treturn ndx\n",
      "end\n",
      "\n",
      "function convex_connections(grid::BitArray)\n",
      "    active_set = [[n] for n in find(grid)]\n",
      "    \n",
      "    while true\n",
      "        new_active_set = Array{Int64}[]\n",
      "        for j = 1:length(active_set)\n",
      "            h = active_set[j]\n",
      "            x = h[end]\n",
      "            n = neighbors(size(grid), x)\n",
      "            for i = 1:length(n)\n",
      "                ni = n[i];\n",
      "                if ni <= x\n",
      "                    continue\n",
      "                end\n",
      "                if !grid[ni]\n",
      "                    continue\n",
      "                end\n",
      "                if ni in h\n",
      "                    continue\n",
      "                end\n",
      "                ok = check_convex_addition(h, size(grid), ni)\n",
      "                if !ok\n",
      "                    continue\n",
      "                end\n",
      "                push!(new_active_set, vcat(h, ni))\n",
      "            end\n",
      "        end\n",
      "        if length(new_active_set) == 0\n",
      "            break\n",
      "        end\n",
      "        active_set = copy(new_active_set)\n",
      "    end\n",
      "    sort!(active_set, by=length)\n",
      "    largest_set = active_set[end]\n",
      "    mask = falses(size(grid))\n",
      "    mask[largest_set] = true\n",
      "    return mask\n",
      "end\n",
      "\n",
      "end"
     ],
     "language": "python",
     "metadata": {},
     "outputs": [
      {
       "output_type": "stream",
       "stream": "stderr",
       "text": [
        "Warning: replacing module Connectivity\n"
       ]
      }
     ],
     "prompt_number": 105
    },
    {
     "cell_type": "code",
     "collapsed": false,
     "input": [
      "import Connectivity"
     ],
     "language": "python",
     "metadata": {},
     "outputs": [],
     "prompt_number": 106
    },
    {
     "cell_type": "code",
     "collapsed": false,
     "input": [
      "tic()\n",
      "for j = 1:100\n",
      "    grid = randbool(10,10)\n",
      "    mask = Connectivity.convex_connections(grid)\n",
      "end\n",
      "toc()"
     ],
     "language": "python",
     "metadata": {},
     "outputs": [
      {
       "output_type": "stream",
       "stream": "stdout",
       "text": [
        "elapsed time: 1"
       ]
      },
      {
       "output_type": "stream",
       "stream": "stdout",
       "text": [
        ".084010884 seconds\n"
       ]
      },
      {
       "metadata": {},
       "output_type": "pyout",
       "prompt_number": 107,
       "text": [
        "1.084010884"
       ]
      }
     ],
     "prompt_number": 107
    },
    {
     "cell_type": "code",
     "collapsed": false,
     "input": [],
     "language": "python",
     "metadata": {},
     "outputs": []
    }
   ],
   "metadata": {}
  }
 ]
}